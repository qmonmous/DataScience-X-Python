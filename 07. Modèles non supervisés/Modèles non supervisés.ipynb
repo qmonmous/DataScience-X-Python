{
 "cells": [
  {
   "cell_type": "markdown",
   "metadata": {},
   "source": [
    "# 07. Unsupervised Machine Learning"
   ]
  },
  {
   "cell_type": "code",
   "execution_count": 1,
   "metadata": {},
   "outputs": [
    {
     "data": {
      "text/html": [
       "<div>\n",
       "<style scoped>\n",
       "    .dataframe tbody tr th:only-of-type {\n",
       "        vertical-align: middle;\n",
       "    }\n",
       "\n",
       "    .dataframe tbody tr th {\n",
       "        vertical-align: top;\n",
       "    }\n",
       "\n",
       "    .dataframe thead th {\n",
       "        text-align: right;\n",
       "    }\n",
       "</style>\n",
       "<table border=\"1\" class=\"dataframe\">\n",
       "  <thead>\n",
       "    <tr style=\"text-align: right;\">\n",
       "      <th></th>\n",
       "      <th>ID</th>\n",
       "      <th>name</th>\n",
       "      <th>category</th>\n",
       "      <th>main_category</th>\n",
       "      <th>currency</th>\n",
       "      <th>deadline</th>\n",
       "      <th>goal</th>\n",
       "      <th>launched</th>\n",
       "      <th>pledged</th>\n",
       "      <th>state</th>\n",
       "      <th>backers</th>\n",
       "      <th>country</th>\n",
       "      <th>usd pledged</th>\n",
       "      <th>usd_pledged_real</th>\n",
       "      <th>usd_goal_real</th>\n",
       "    </tr>\n",
       "  </thead>\n",
       "  <tbody>\n",
       "    <tr>\n",
       "      <th>0</th>\n",
       "      <td>1000002330</td>\n",
       "      <td>The Songs of Adelaide &amp; Abullah</td>\n",
       "      <td>Poetry</td>\n",
       "      <td>Publishing</td>\n",
       "      <td>GBP</td>\n",
       "      <td>2015-10-09</td>\n",
       "      <td>1000.0</td>\n",
       "      <td>2015-08-11 12:12:28</td>\n",
       "      <td>0.0</td>\n",
       "      <td>1</td>\n",
       "      <td>0</td>\n",
       "      <td>GB</td>\n",
       "      <td>0.0</td>\n",
       "      <td>0.0</td>\n",
       "      <td>1533.95</td>\n",
       "    </tr>\n",
       "    <tr>\n",
       "      <th>1</th>\n",
       "      <td>1000003930</td>\n",
       "      <td>Greeting From Earth: ZGAC Arts Capsule For ET</td>\n",
       "      <td>Narrative Film</td>\n",
       "      <td>Film &amp; Video</td>\n",
       "      <td>USD</td>\n",
       "      <td>2017-11-01</td>\n",
       "      <td>30000.0</td>\n",
       "      <td>2017-09-02 04:43:57</td>\n",
       "      <td>2421.0</td>\n",
       "      <td>1</td>\n",
       "      <td>15</td>\n",
       "      <td>US</td>\n",
       "      <td>100.0</td>\n",
       "      <td>2421.0</td>\n",
       "      <td>30000.00</td>\n",
       "    </tr>\n",
       "    <tr>\n",
       "      <th>2</th>\n",
       "      <td>1000004038</td>\n",
       "      <td>Where is Hank?</td>\n",
       "      <td>Narrative Film</td>\n",
       "      <td>Film &amp; Video</td>\n",
       "      <td>USD</td>\n",
       "      <td>2013-02-26</td>\n",
       "      <td>45000.0</td>\n",
       "      <td>2013-01-12 00:20:50</td>\n",
       "      <td>220.0</td>\n",
       "      <td>1</td>\n",
       "      <td>3</td>\n",
       "      <td>US</td>\n",
       "      <td>220.0</td>\n",
       "      <td>220.0</td>\n",
       "      <td>45000.00</td>\n",
       "    </tr>\n",
       "  </tbody>\n",
       "</table>\n",
       "</div>"
      ],
      "text/plain": [
       "           ID                                           name        category  \\\n",
       "0  1000002330                The Songs of Adelaide & Abullah          Poetry   \n",
       "1  1000003930  Greeting From Earth: ZGAC Arts Capsule For ET  Narrative Film   \n",
       "2  1000004038                                 Where is Hank?  Narrative Film   \n",
       "\n",
       "  main_category currency    deadline     goal             launched  pledged  \\\n",
       "0    Publishing      GBP  2015-10-09   1000.0  2015-08-11 12:12:28      0.0   \n",
       "1  Film & Video      USD  2017-11-01  30000.0  2017-09-02 04:43:57   2421.0   \n",
       "2  Film & Video      USD  2013-02-26  45000.0  2013-01-12 00:20:50    220.0   \n",
       "\n",
       "   state  backers country  usd pledged  usd_pledged_real  usd_goal_real  \n",
       "0      1        0      GB          0.0               0.0        1533.95  \n",
       "1      1       15      US        100.0            2421.0       30000.00  \n",
       "2      1        3      US        220.0             220.0       45000.00  "
      ]
     },
     "execution_count": 1,
     "metadata": {},
     "output_type": "execute_result"
    }
   ],
   "source": [
    "from IPython.display import HTML, Image\n",
    "import pandas as pd\n",
    "data = pd.read_csv(\"data/data.csv\").dropna()\n",
    "data['state'] = data['state'].astype(\"category\").cat.codes\n",
    "data.head(3)"
   ]
  },
  {
   "cell_type": "markdown",
   "metadata": {},
   "source": [
    "### A. Réduction dimensionnelle linéaire\n",
    "\n",
    "• PCA  \n",
    "• NMF  \n",
    "• Factor Analysis  \n",
    "• Metrics  \n",
    "\n",
    "### B. Réduction dimensionnelle non-linéaire\n",
    "\n",
    "• ACP à noyau  \n",
    "\n",
    "### C. Clustering\n",
    "\n",
    "• K-Means  \n",
    "• Clustering hiérarchique  \n",
    "• DBSCAN  \n",
    "• Metrics  "
   ]
  },
  {
   "cell_type": "markdown",
   "metadata": {},
   "source": [
    "## F. Réduction de dimensions linéaire"
   ]
  },
  {
   "cell_type": "markdown",
   "metadata": {},
   "source": [
    "### –– ACP (PCA)\n",
    "- se concentrer sur la maximisation de la variance selon les axes (au détriment du caractère explicatif des axes)...\n",
    "- ...en définissant des axes orthogonaux appelés composantes principales."
   ]
  },
  {
   "cell_type": "code",
   "execution_count": 2,
   "metadata": {},
   "outputs": [
    {
     "name": "stdout",
     "output_type": "stream",
     "text": [
      "[0.49575682 0.27767067]\n",
      "0.7734274921287223\n"
     ]
    }
   ],
   "source": [
    "data_PCA = data.drop(['launched', 'name', 'ID', 'deadline', 'country', 'currency', 'main_category', 'category'], axis=1)\n",
    "\n",
    "#Standardiser les données pour les comparer entre elles peu importe l'unité\n",
    "from sklearn import preprocessing\n",
    "\n",
    "std_scale = preprocessing.StandardScaler().fit(data_PCA)\n",
    "data_scaled = std_scale.transform(data_PCA)\n",
    "\n",
    "#Calcul des composantes principales\n",
    "from sklearn import decomposition\n",
    "\n",
    "pca = decomposition.PCA(n_components=2)\n",
    "pca.fit(data_scaled)\n",
    "\n",
    "#Pourcentage de variance expliquée\n",
    "print(pca.explained_variance_ratio_) #par composantes\n",
    "print(pca.explained_variance_ratio_.sum()) #en cumulé"
   ]
  },
  {
   "cell_type": "code",
   "execution_count": 3,
   "metadata": {},
   "outputs": [],
   "source": [
    "#Projeter X sur les composantes principales\n",
    "X_projected = pca.transform(data_scaled)"
   ]
  },
  {
   "cell_type": "code",
   "execution_count": 4,
   "metadata": {},
   "outputs": [
    {
     "name": "stdout",
     "output_type": "stream",
     "text": [
      "Empty DataFrame\n",
      "Columns: [goal, pledged, state, backers, usd pledged, usd_pledged_real, usd_goal_real]\n",
      "Index: []\n",
      "          0         1         2         3         4         5         6\n",
      "0  0.005864  0.511379  0.084768  0.453941  0.501177  0.523447  0.005791\n",
      "1  0.706690 -0.002181 -0.034488 -0.003619 -0.002055 -0.002912  0.706661\n"
     ]
    }
   ],
   "source": [
    "#Afficher les poids des composantes principales\n",
    "pcs = pca.components_\n",
    "print(data_PCA.head(0))\n",
    "print(pd.DataFrame(pcs))"
   ]
  },
  {
   "cell_type": "code",
   "execution_count": 5,
   "metadata": {},
   "outputs": [
    {
     "data": {
      "image/png": "[encoded data removed]",
      "text/plain": [
       "<Figure size 432x288 with 2 Axes>"
      ]
     },
     "metadata": {
      "needs_background": "light"
     },
     "output_type": "display_data"
    }
   ],
   "source": [
    "#Visualiser les observations sur les composantes principales, en fonction d'une variable initiale\n",
    "import matplotlib.pyplot as plt\n",
    "%matplotlib inline\n",
    "\n",
    "plt.scatter(X_projected[:, 0], X_projected[:, 1], c=data.get('state'))\n",
    "plt.xlabel('PC1')\n",
    "plt.ylabel('PC2')\n",
    "plt.colorbar()\n",
    "plt.show()"
   ]
  },
  {
   "cell_type": "code",
   "execution_count": 6,
   "metadata": {},
   "outputs": [
    {
     "data": {
      "image/png": "[encoded data removed]",
      "text/plain": [
       "<Figure size 432x288 with 1 Axes>"
      ]
     },
     "metadata": {
      "needs_background": "light"
     },
     "output_type": "display_data"
    }
   ],
   "source": [
    "for i, (x, y) in enumerate(zip(pcs[0, :], pcs[1, :])):\n",
    "    #Afficher un segment de l'origine au point (x, y)\n",
    "    plt.plot([0, x], [0, y], color='k')\n",
    "    #Afficher le nom (data.columns[i]) de la performance\n",
    "    plt.text(x, y, data_PCA.columns[i], fontsize='14')\n",
    "\n",
    "#Afficher une ligne verticale x=0\n",
    "plt.plot([0, 0], [-1, 1], color='grey', ls='--')\n",
    "plt.xlabel('PC1')\n",
    "\n",
    "#Afficher une ligne horizontale y=0\n",
    "plt.plot([-1, 1], [0, 0], color='grey', ls='--')\n",
    "plt.ylabel('PC2')\n",
    "\n",
    "plt.show()"
   ]
  },
  {
   "cell_type": "markdown",
   "metadata": {},
   "source": [
    "### –– Non-negative matrix factorization (NMF)\n",
    "Si les composantes principales d'une ACP sont difficiles à interpréter (valeurs négatives, d'autres positives...), on peut envisager une NMF qui va nous permettre d'obtenir des composantes avec des valeurs exclusivement positives et plus interprétables.  \n",
    "\n",
    "- il faut que la matrice de données soit exclusivement positive...\n",
    "- ...et la NMF forcera les valeurs des composantes à être positives.\n",
    "- utile pour découvrir des thèmes.\n",
    "\n",
    "*Elle permet aussi de prédire les valeurs manquantes de notre matrice de données.* "
   ]
  },
  {
   "cell_type": "markdown",
   "metadata": {},
   "source": [
    "### –– Analyse factorielle (Factor Analysis)\n",
    "\n",
    "L'analyse factorielle postule que les données observées sont le fruit d'une combinaison linéaire de facteurs latents qu'il faut découvrir, au détriment de la qualité de la variance expliquée sur laquelle se concentre l'ACP ou la NMF.\n",
    "\n",
    "- modélise la structure de convariance entre les variables observées...\n",
    "- ...sans nécessairement définir des axes orthogonaux.\n",
    "- utile pour découvrir des variables latentes"
   ]
  },
  {
   "cell_type": "markdown",
   "metadata": {},
   "source": [
    "## G. Réduction de dimensions non-linéaire\n",
    "\n",
    "Quand le pourcentage de variance expliquée à l'issue des réductions dimensionnelles linéaires est trop faible, on se tourne vers des méthodes non-linéaires."
   ]
  },
  {
   "cell_type": "markdown",
   "metadata": {},
   "source": [
    "### –– ACP à noyau"
   ]
  },
  {
   "cell_type": "markdown",
   "metadata": {},
   "source": [
    "### –– Clustering hiérarchique\n",
    "\n",
    "- Le Clustering hiérarchique est adapté à des petits datasets (complexité algorithmique lourde).\n",
    "- Il n'est pas nécessaire de définir le nombre de clusters à l'avance (on explore toutes les possibilités). \n",
    "\n",
    "À chaque étape, on agrège les deux clusters les plus proches. La distance (paramètre `linkage:`) peut être calculée :\n",
    "- Lien simple (`single`) : la distance entre deux clusters est celle entre les deux points les plus proches.\n",
    "- Lien complet (`complete`) : la distance entre deux clusters est celle entre les deux points les plus éloignés.\n",
    "- Lien moyen (`average`) : la distance entre deux clusters est la distance moyenne entre les points des deux clusters.\n",
    "- Clustering de Ward (`ward`) : la distance entre deux clusters est calculée de façon à minimiser la variance inter-cluster."
   ]
  },
  {
   "cell_type": "markdown",
   "metadata": {},
   "source": [
    "### –– K-means\n",
    "\n",
    "- Efficace en temps de calcul (k étant fixé).\n",
    "- Toutefois, il est nécessaire de réitérer avec un nouveau k pour tester une initialisation différente.\n",
    "- Quand k est petit, K-means est sensible aux outliers.\n",
    "\n",
    "K-Means: Algo explained:\n",
    "we init k initial centroids (with k the number of clusters we want). Note that our final clusters are sensitive to our initial centroids.\n",
    "samples are assigned to the closest centroid, making a cluster\n",
    "then a new centroid is defined as the mean of cluster\n",
    "then we reassigned samples to the new closest centroid and recalculate a new centroid etc. until a stopping criteria is reached\n",
    "\n",
    "How to choose k:\n",
    "- Have a visually approach of the potential number of clusters with a scatterplot.\n",
    "- Do some features reduction (dimensional reductions) to better visualize.\n",
    "- Use domain knowledge like for a retailer, the number of categories of its products, or for a location survey, the number of regions that you want to analyze.\n",
    "- Elbow Method (les coudes de cattell ommgg ???): We plot the WSSE (y) by the number of clusters k (x). We choose k where the curve stop dropping, or a possible range of k if it’s too ambiguous.\n",
    "\n",
    "How to choose a stopping criterion:\n",
    "Natural if there is no more changes after recalculation of centroids but we can’t add a stopping criteria like stop when the number of samples change in clusters is below your criterion like 1% for example.\n",
    "\n",
    "Model accuracy :\n",
    "- WSSE (Within cluster Sum of Squared Error)\n",
    "It only make sense to measure the WSSE when same k and from the same dataset.\n",
    "Larger k will always reduce WSSE.\n",
    "Warning: if WSSE1 < WSSE2, it does’t mean that model1 is better than model2. The minimal WSSE is not always the best.\n",
    "\n",
    "Interpretation:\n",
    "Clusters’ centroids are like a representative sample of a cluster, so we can compare the centroids between them to see the differences"
   ]
  },
  {
   "cell_type": "code",
   "execution_count": 7,
   "metadata": {},
   "outputs": [],
   "source": [
    "from sklearn.cluster import KMeans\n",
    "\n",
    "Sum_of_squared_distances = []\n",
    "K = range(1,10)\n",
    "for k in K:\n",
    "    km = KMeans(n_clusters=k)\n",
    "    km = km.fit(data_scaled)\n",
    "    Sum_of_squared_distances.append(km.inertia_)"
   ]
  },
  {
   "cell_type": "code",
   "execution_count": 8,
   "metadata": {},
   "outputs": [
    {
     "data": {
      "image/png": "[encoded data removed]",
      "text/plain": [
       "<Figure size 432x288 with 1 Axes>"
      ]
     },
     "metadata": {
      "needs_background": "light"
     },
     "output_type": "display_data"
    }
   ],
   "source": [
    "plt.plot(K, Sum_of_squared_distances, 'bx-')\n",
    "plt.xlabel('k')\n",
    "plt.ylabel('Sum_of_squared_distances')\n",
    "plt.title('Elbow Method For Optimal k')\n",
    "plt.show()"
   ]
  },
  {
   "cell_type": "code",
   "execution_count": 9,
   "metadata": {},
   "outputs": [
    {
     "data": {
      "text/plain": [
       "<matplotlib.collections.PathCollection at 0x1239e7f98>"
      ]
     },
     "execution_count": 9,
     "metadata": {},
     "output_type": "execute_result"
    },
    {
     "data": {
      "image/png": "[encoded data removed]",
      "text/plain": [
       "<Figure size 864x360 with 1 Axes>"
      ]
     },
     "metadata": {
      "needs_background": "light"
     },
     "output_type": "display_data"
    }
   ],
   "source": [
    "from sklearn import cluster, metrics\n",
    "fig = plt.figure(figsize=(12, 5))\n",
    "\n",
    "kmeans = cluster.KMeans(n_clusters=4)\n",
    "kmeans.fit(data_scaled)\n",
    "ax = fig.add_subplot(121)\n",
    "ax.scatter(X_projected[:, 0], X_projected[:, 1], c=kmeans.labels_)"
   ]
  },
  {
   "cell_type": "markdown",
   "metadata": {},
   "source": [
    "### –– DBSCAN\n",
    "\n",
    "- peu adapté au grands jeux de données de part le peu de densité.\n",
    "- \n",
    "\n",
    "DBSCAN itère sur les points du jeu de données. Pour chacun des points qu'il analyse, il construit l'ensemble des points atteignables par densité depuis ce point : il calcule l'epsilon-voisinage de ce point, puis, si ce voisinage continent plus de n_min points, les epsilon-voisinages de chacun d'entre eux, et ainsi de suite, jusqu'à ne plus pouvoir agrandir le cluster. Si le point considéré n'est pas un point intérieur, c'est à dire qu'il n'a pas suffisamment de voisins, il sera alors étiqueté comme du bruit. Cela permet à DBSCAN d'être robuste aux données aberrantes puisque ce mécanisme les isole."
   ]
  }
 ],
 "metadata": {
  "kernelspec": {
   "display_name": "Python 3",
   "language": "python",
   "name": "python3"
  },
  "language_info": {
   "codemirror_mode": {
    "name": "ipython",
    "version": 3
   },
   "file_extension": ".py",
   "mimetype": "text/x-python",
   "name": "python",
   "nbconvert_exporter": "python",
   "pygments_lexer": "ipython3",
   "version": "3.7.0"
  }
 },
 "nbformat": 4,
 "nbformat_minor": 2
}
