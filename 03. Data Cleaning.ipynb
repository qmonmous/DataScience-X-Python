{
 "cells": [
  {
   "cell_type": "markdown",
   "metadata": {},
   "source": [
    "# 03. Data Cleaning"
   ]
  },
  {
   "cell_type": "markdown",
   "metadata": {},
   "source": [
    "### Deletion"
   ]
  },
  {
   "cell_type": "code",
   "execution_count": null,
   "metadata": {},
   "outputs": [],
   "source": [
    "#Delete row(s) having at least one NaN value\n",
    "df = df.dropna()\n",
    "\n",
    "#Delete column(s) having at least one NaN value\n",
    "df.dropna(axis='columns')\n",
    "\n",
    "#Delete rows having at least one NaN value in the defined columns (here 'name' and 'born')\n",
    "df.dropna(subset=['name', 'born'])\n",
    "\n",
    "#Delete rows where every value is NaN\n",
    "df.dropna(how='all')\n",
    "\n",
    "#Delete rows having stricly less than 5 valid values\n",
    "df.dropna(thresh=5)"
   ]
  },
  {
   "cell_type": "code",
   "execution_count": null,
   "metadata": {},
   "outputs": [],
   "source": []
  }
 ],
 "metadata": {
  "kernelspec": {
   "display_name": "Python 3",
   "language": "python",
   "name": "python3"
  },
  "language_info": {
   "codemirror_mode": {
    "name": "ipython",
    "version": 3
   },
   "file_extension": ".py",
   "mimetype": "text/x-python",
   "name": "python",
   "nbconvert_exporter": "python",
   "pygments_lexer": "ipython3",
   "version": "3.7.0"
  }
 },
 "nbformat": 4,
 "nbformat_minor": 2
}
