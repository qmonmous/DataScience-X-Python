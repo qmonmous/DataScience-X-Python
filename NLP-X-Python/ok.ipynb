   "execution_count": 300,
   "metadata": {},
   "outputs": [
    {
     "name": "stdout",
     "output_type": "stream",
     "text": [
      "black lips Mean Score: 7.48 Genres: ['rock', 'rock', 'rock', 'rock', 'rock']\n",
      "crookers Mean Score: 5.5 Genres: ['electronic']\n",
      "guided by voices Mean Score: 7.23043478261 Genres: ['rock', 'rock', 'rock', 'rock', 'rock', 'rock', 'rock', 'rock', 'rock', 'rock', 'rock', 'rock', 'rock', 'rock', 'rock', 'rock', 'rock', 'rock', 'rock', 'rock', 'rock', 'rock', 'rock']\n"
     ]
    }
   ],
   "source": [
    "bands = find_closest_n(electronic_experimental, 3)\n",
    "for band in bands:\n",
    "    print(band, 'Mean Score:' , np.mean(artist_dict[band].scores), 'Genres:', artist_dict[band].genres)"
   ]
  },
  {
   "cell_type": "code",
   "execution_count": null,
   "metadata": {},
   "outputs": [],
   "source": []
  }
 ],
 "metadata": {
  "kernelspec": {
   "display_name": "Python 3",
   "language": "python",
   "name": "python3"
  },
  "language_info": {
   "codemirror_mode": {
    "name": "ipython",
    "version": 3
   },
   "file_extension": ".py",
   "mimetype": "text/x-python",
   "name": "python",
   "nbconvert_exporter": "python",
   "pygments_lexer": "ipython3",
   "version": "3.6.3"
  }
 },
 "nbformat": 4,
 "nbformat_minor": 2
}
