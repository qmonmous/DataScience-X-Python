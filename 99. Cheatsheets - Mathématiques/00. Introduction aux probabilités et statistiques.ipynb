{
 "cells": [
  {
   "cell_type": "markdown",
   "metadata": {},
   "source": [
    "# 00. Probabilités, statistiques et concepts mathématiques"
   ]
  },
  {
   "cell_type": "code",
   "execution_count": 68,
   "metadata": {},
   "outputs": [
    {
     "data": {
      "text/html": [
       "<div>\n",
       "<style scoped>\n",
       "    .dataframe tbody tr th:only-of-type {\n",
       "        vertical-align: middle;\n",
       "    }\n",
       "\n",
       "    .dataframe tbody tr th {\n",
       "        vertical-align: top;\n",
       "    }\n",
       "\n",
       "    .dataframe thead th {\n",
       "        text-align: right;\n",
       "    }\n",
       "</style>\n",
       "<table border=\"1\" class=\"dataframe\">\n",
       "  <thead>\n",
       "    <tr style=\"text-align: right;\">\n",
       "      <th></th>\n",
       "      <th>ID</th>\n",
       "      <th>name</th>\n",
       "      <th>category</th>\n",
       "      <th>main_category</th>\n",
       "      <th>currency</th>\n",
       "      <th>deadline</th>\n",
       "      <th>goal</th>\n",
       "      <th>launched</th>\n",
       "      <th>pledged</th>\n",
       "      <th>state</th>\n",
       "      <th>backers</th>\n",
       "      <th>country</th>\n",
       "      <th>usd pledged</th>\n",
       "      <th>usd_pledged_real</th>\n",
       "      <th>usd_goal_real</th>\n",
       "    </tr>\n",
       "  </thead>\n",
       "  <tbody>\n",
       "    <tr>\n",
       "      <th>0</th>\n",
       "      <td>1000002330</td>\n",
       "      <td>The Songs of Adelaide &amp; Abullah</td>\n",
       "      <td>Poetry</td>\n",
       "      <td>Publishing</td>\n",
       "      <td>GBP</td>\n",
       "      <td>2015-10-09</td>\n",
       "      <td>1000.0</td>\n",
       "      <td>2015-08-11 12:12:28</td>\n",
       "      <td>0.0</td>\n",
       "      <td>failed</td>\n",
       "      <td>0</td>\n",
       "      <td>GB</td>\n",
       "      <td>0.0</td>\n",
       "      <td>0.0</td>\n",
       "      <td>1533.95</td>\n",
       "    </tr>\n",
       "  </tbody>\n",
       "</table>\n",
       "</div>"
      ],
      "text/plain": [
       "           ID                             name category main_category  \\\n",
       "0  1000002330  The Songs of Adelaide & Abullah   Poetry    Publishing   \n",
       "\n",
       "  currency    deadline    goal             launched  pledged   state  backers  \\\n",
       "0      GBP  2015-10-09  1000.0  2015-08-11 12:12:28      0.0  failed        0   \n",
       "\n",
       "  country  usd pledged  usd_pledged_real  usd_goal_real  \n",
       "0      GB          0.0               0.0        1533.95  "
      ]
     },
     "execution_count": 68,
     "metadata": {},
     "output_type": "execute_result"
    }
   ],
   "source": [
    "from IPython.display import HTML, Image #illustration\n",
    "import pandas as pd\n",
    "data = pd.read_csv(\"data/data.csv\")\n",
    "data.head(1)"
   ]
  },
  {
   "cell_type": "markdown",
   "metadata": {},
   "source": [
    "## –– Sommaire\n",
    "\n",
    "### A. Introduction aux probabilités\n",
    "\n",
    "x Concept de probabilité  \n",
    "x Théorème de Bayes\n",
    "\n",
    "### B. Introduction aux statistiques\n",
    "\n",
    "x Distribution et Théorème Central Limite  \n",
    "• Espérance et Moyenne, Médiane, Mode  \n",
    "• Dispersion : Variance, Écart-type  \n",
    "• Forme : Skewness et Kurtosis  \n",
    "x Concentration : Courbe de Lorenz, Indice de Gini https://openclassrooms.com/fr/courses/4525266-decrivez-et-nettoyez-votre-jeu-de-donnees/4730366-familiarisez-vous-avec-les-mesures-de-concentration  \n",
    "x Fréquences  \n",
    "**Bonus** : moyenne harmonique, moyenne quadratique  \n",
    "\n",
    "### C. Concepts mathématiques\n",
    "\n",
    "• Biais, Poids et Degrés de liberté  \n",
    "• Dérivées et Intégrales  \n",
    "• Dérivées partielles    \n",
    "• Gradient et Descente de gradient  \n",
    "• Convexité et Concavité  \n",
    "• Matrices, valeurs et vecteurs propres  \n",
    "• Boosting, bagging  "
   ]
  },
  {
   "cell_type": "markdown",
   "metadata": {},
   "source": [
    "---\n",
    "\n",
    "## A. Introduction aux probabilités"
   ]
  },
  {
   "cell_type": "markdown",
   "metadata": {},
   "source": [
    "https://openclassrooms.com/fr/courses/4525296-maitrisez-les-bases-des-probabilites"
   ]
  },
  {
   "cell_type": "markdown",
   "metadata": {},
   "source": [
    "## test\n",
    "$$\\mathbb{P}(A \\cup B) = \\mathbb{P}(A) + \\mathbb{P}(B)$$"
   ]
  },
  {
   "cell_type": "markdown",
   "metadata": {},
   "source": [
    "## B. Introduction aux statistiques\n",
    "\n",
    "$\\sum$ : la somme de  \n",
    "$x_i$ : une valeur de la série statistique  \n",
    "$n$ : l'effectif"
   ]
  },
  {
   "cell_type": "markdown",
   "metadata": {},
   "source": [
    "### –– Distribution et Théorème Central Limite :"
   ]
  },
  {
   "cell_type": "code",
   "execution_count": 58,
   "metadata": {},
   "outputs": [
    {
     "data": {
      "image/png": "[encoded data removed]",
      "text/plain": [
       "<IPython.core.display.Image object>"
      ]
     },
     "execution_count": 58,
     "metadata": {
      "image/png": {
       "width": "400"
      }
     },
     "output_type": "execute_result"
    }
   ],
   "source": [
    "Image(filename='img/gauss.png', width=\"400\")"
   ]
  },
  {
   "cell_type": "markdown",
   "metadata": {},
   "source": [
    "EXPLIQUER LA NOTION DE DISTRIBUTION ET INTRODUIRE A LA DISTRIBUTION NORMALE PUIS AU THEO CENTRAL LIMITE"
   ]
  },
  {
   "cell_type": "markdown",
   "metadata": {},
   "source": [
    "Petite demonstration du phénomène par notre ami <mark>Cédric Villani</mark> lors de sa conférence TED \"What's so sexy about math?\"."
   ]
  },
  {
   "cell_type": "code",
   "execution_count": 51,
   "metadata": {
    "scrolled": true
   },
   "outputs": [
    {
     "name": "stdout",
     "output_type": "stream",
     "text": [
      "L'extrait qui nous intéresse se situe de 4:10 à 4:26\n"
     ]
    },
    {
     "data": {
      "text/html": [
       "<iframe width=\"400\" height=\"255\" src=\"https://www.youtube.com/embed/Kc0Kthyo0hU?start=250\" frameborder=\"0\" allow=\"accelerometer; autoplay; encrypted-media; gyroscope; picture-in-picture\" allowfullscreen></iframe>"
      ],
      "text/plain": [
       "<IPython.core.display.HTML object>"
      ]
     },
     "execution_count": 51,
     "metadata": {},
     "output_type": "execute_result"
    }
   ],
   "source": [
    "print(\"L'extrait qui nous intéresse se situe de 4:10 à 4:26\") #illustration\n",
    "HTML('<iframe width=\"400\" height=\"255\" src=\"https://www.youtube.com/embed/Kc0Kthyo0hU?start=250\" frameborder=\"0\" allow=\"accelerometer; autoplay; encrypted-media; gyroscope; picture-in-picture\" allowfullscreen></iframe>')"
   ]
  },
  {
   "cell_type": "markdown",
   "metadata": {},
   "source": [
    "---"
   ]
  },
  {
   "cell_type": "markdown",
   "metadata": {},
   "source": [
    "### –– Espérance\n",
    "\n",
    "TODO"
   ]
  },
  {
   "cell_type": "markdown",
   "metadata": {},
   "source": [
    "### –– Moyenne $\\mu$\n",
    "\n",
    "Il existe différentes moyennes, mais quand on parle de moyenne, il s'agit toujours de la moyenne arithmétique.\n",
    "La moyenne arithmétique (noté $\\mu$) est égale à la somme de toutes les valeurs par le nombre de ces valeurs (l'effectif total).\n",
    "\n",
    "$\\mu=\\dfrac{\\sum{x_i}}{n}$  "
   ]
  },
  {
   "cell_type": "code",
   "execution_count": 52,
   "metadata": {},
   "outputs": [
    {
     "name": "stdout",
     "output_type": "stream",
     "text": [
      "45454.40146545336\n"
     ]
    }
   ],
   "source": [
    "print(data['usd_goal_real'].mean())"
   ]
  },
  {
   "cell_type": "markdown",
   "metadata": {},
   "source": [
    "### –– Médiane\n",
    "\n",
    "La médiane est la valeur centrale d’une série statistique — la moitié des observations lui sont inférieures ou égales et la moitié des observations lui sont supérieures ou égales."
   ]
  },
  {
   "cell_type": "code",
   "execution_count": 5,
   "metadata": {},
   "outputs": [
    {
     "name": "stdout",
     "output_type": "stream",
     "text": [
      "5500.0\n"
     ]
    }
   ],
   "source": [
    "print(data['usd_goal_real'].median())"
   ]
  },
  {
   "cell_type": "markdown",
   "metadata": {},
   "source": [
    "### –– Mode\n",
    "\n",
    "Le mode pour un caractère discret est la valeur du caractère qui correspond à l'effectif le plus grand. Pour un caractère continu, on parle de classe modale. Le mode est pertinent lorsque dans la série, certaines valeurs sont répétées plusieurs fois. Il peut y avoir aucun, un seul ou plusieurs modes lorsque la distribution est dite *plurimodale*."
   ]
  },
  {
   "cell_type": "code",
   "execution_count": 6,
   "metadata": {},
   "outputs": [
    {
     "name": "stdout",
     "output_type": "stream",
     "text": [
      "0    5000.0\n",
      "dtype: float64\n"
     ]
    }
   ],
   "source": [
    "print(data['usd_goal_real'].mode())"
   ]
  },
  {
   "cell_type": "code",
   "execution_count": 9,
   "metadata": {},
   "outputs": [
    {
     "data": {
      "image/png": "[encoded data removed]",
      "text/plain": [
       "<IPython.core.display.Image object>"
      ]
     },
     "execution_count": 9,
     "metadata": {
      "image/png": {
       "width": "200"
      }
     },
     "output_type": "execute_result"
    }
   ],
   "source": [
    "Image(filename='img/medmoymod.png', width=\"200\")"
   ]
  },
  {
   "cell_type": "markdown",
   "metadata": {},
   "source": [
    "### –– Variance $Var$"
   ]
  },
  {
   "cell_type": "markdown",
   "metadata": {},
   "source": [
    "$Var = {\\dfrac{\\sum\\limits_{i=1}^{n}{{\\lvert x_i-\\mu\\rvert^2}}}{n}}$"
   ]
  },
  {
   "cell_type": "code",
   "execution_count": 39,
   "metadata": {},
   "outputs": [
    {
     "name": "stdout",
     "output_type": "stream",
     "text": [
      "822982.5139464174\n"
     ]
    }
   ],
   "source": [
    "print(data['backers'].var(ddof=0))"
   ]
  },
  {
   "cell_type": "markdown",
   "metadata": {},
   "source": [
    "### –– Ecart-type (std) σ  "
   ]
  },
  {
   "cell_type": "markdown",
   "metadata": {},
   "source": [
    "$σ = \\sqrt{Var} = \\sqrt{\\dfrac{\\sum\\limits_{i=1}^{n}{{\\lvert x_i-\\mu\\rvert^2}}}{n}}$"
   ]
  },
  {
   "cell_type": "code",
   "execution_count": 37,
   "metadata": {},
   "outputs": [
    {
     "name": "stdout",
     "output_type": "stream",
     "text": [
      "907.1838369076123\n"
     ]
    }
   ],
   "source": [
    "print(data['backers'].std(ddof=0))"
   ]
  },
  {
   "cell_type": "markdown",
   "metadata": {},
   "source": [
    "### –– L'écart inter-quartiles ($IQR$)"
   ]
  },
  {
   "cell_type": "markdown",
   "metadata": {},
   "source": [
    "$IQR = Q_3 - Q_1$"
   ]
  },
  {
   "cell_type": "code",
   "execution_count": 55,
   "metadata": {},
   "outputs": [
    {
     "data": {
      "image/jpeg": "[encoded data removed]",
      "text/plain": [
       "<IPython.core.display.Image object>"
      ]
     },
     "execution_count": 55,
     "metadata": {
      "image/jpeg": {
       "width": "400"
      }
     },
     "output_type": "execute_result"
    }
   ],
   "source": [
    "Image(filename='img/boxplot.jpg', width=\"400\") #illustration"
   ]
  },
  {
   "cell_type": "markdown",
   "metadata": {},
   "source": [
    "### –– Skewness $\\gamma_1$"
   ]
  },
  {
   "cell_type": "markdown",
   "metadata": {},
   "source": [
    "**Mesure d'asymétrie de la distribution**.  \n",
    "L’asymétrie d’une distribution traduit la régularité (ou non) avec laquelle les observations se répartissent autour de la valeur centrale. On interprète cette mesure de cette manière :  \n",
    "- $\\gamma_1$ = 0 alors la distribution est symétrique. La valeur étudiée tend   \n",
    "- $\\gamma_1$ > 0 alors la distribution est s'étale davantage à droite (right-skewed).  \n",
    "- $\\gamma_1$ < 0 alors la distribution est s'étale davantage à gauche (left-skewed)."
   ]
  },
  {
   "cell_type": "code",
   "execution_count": 66,
   "metadata": {},
   "outputs": [
    {
     "name": "stdout",
     "output_type": "stream",
     "text": [
      "right-skewed (>0) vs. left-skewed (<0)\n"
     ]
    },
    {
     "data": {
      "image/png": "[encoded data removed]",
      "text/plain": [
       "<IPython.core.display.Image object>"
      ]
     },
     "execution_count": 66,
     "metadata": {
      "image/png": {
       "width": "500"
      }
     },
     "output_type": "execute_result"
    }
   ],
   "source": [
    "print(\"right-skewed (>0) vs. left-skewed (<0)\")\n",
    "Image(filename='img/skewness.png', width=\"500\") #illustration"
   ]
  },
  {
   "cell_type": "markdown",
   "metadata": {},
   "source": [
    "Dans le cas 1 (right-skewed), la valeur peut monter beaucoup plus haut que dans le cas 2.  \n",
    "A l'inverse, dans le cas 2 (left-skewed), elle peut descendre beaucoup plus bas que dans le cas 1.  \n",
    "En fonction de la valeur étudiée, une distribution peut apparaître plus risquée que l'autre."
   ]
  },
  {
   "cell_type": "code",
   "execution_count": 49,
   "metadata": {},
   "outputs": [
    {
     "name": "stdout",
     "output_type": "stream",
     "text": [
      "86.76300900921687\n"
     ]
    }
   ],
   "source": [
    "print(data['backers'].skew())"
   ]
  },
  {
   "cell_type": "markdown",
   "metadata": {},
   "source": [
    "### –– Kurtosis $\\gamma_2$"
   ]
  },
  {
   "cell_type": "markdown",
   "metadata": {},
   "source": [
    "**Mesure de l'applatissement de la distribitution**.  \n",
    "On compare l'aplatissement par rapport à la distribution normale (ou courbe de Gauss).\n",
    "\n",
    "- $\\gamma_2$ = 0 : alors la distribution a le même aplatissement que la distribution normale.\n",
    "- $\\gamma_2$ < 0 : alors la distribution est plus aplatie (i.e. les observations sont mieux réparties entre les différentes valeurs).\n",
    "- $\\gamma_2$ > 0 : alors la distribution est moins aplatie (i.e. les observations sont très concentrées sur certaines valeurs et très peu sur d'autres)."
   ]
  },
  {
   "cell_type": "code",
   "execution_count": 61,
   "metadata": {},
   "outputs": [
    {
     "data": {
      "image/jpeg": "[encoded data removed]",
      "text/plain": [
       "<IPython.core.display.Image object>"
      ]
     },
     "execution_count": 61,
     "metadata": {
      "image/jpeg": {
       "width": "600"
      }
     },
     "output_type": "execute_result"
    }
   ],
   "source": [
    "Image(filename='img/kurtosis.jpg', width=\"600\") #illustration"
   ]
  },
  {
   "cell_type": "code",
   "execution_count": 50,
   "metadata": {},
   "outputs": [
    {
     "name": "stdout",
     "output_type": "stream",
     "text": [
      "13954.938078466701\n"
     ]
    }
   ],
   "source": [
    "print(data['backers'].kurtosis())"
   ]
  },
  {
   "cell_type": "markdown",
   "metadata": {},
   "source": [
    "### –– Indice de Gini\n",
    "\n",
    "L'indice de Gini mesure les inégalités de concentration d'une quantité. Il est compris entre 0 et 1.\n",
    "- = 1 : le plus inégalitaire possible\n",
    "- = 0 : le plus égalitaire possible"
   ]
  },
  {
   "cell_type": "markdown",
   "metadata": {},
   "source": [
    "### –– Fréquence\n",
    "fréquence d'une modalité = n / N"
   ]
  },
  {
   "cell_type": "code",
   "execution_count": 7,
   "metadata": {},
   "outputs": [
    {
     "data": {
      "text/html": [
       "<div>\n",
       "<style scoped>\n",
       "    .dataframe tbody tr th:only-of-type {\n",
       "        vertical-align: middle;\n",
       "    }\n",
       "\n",
       "    .dataframe tbody tr th {\n",
       "        vertical-align: top;\n",
       "    }\n",
       "\n",
       "    .dataframe thead th {\n",
       "        text-align: right;\n",
       "    }\n",
       "</style>\n",
       "<table border=\"1\" class=\"dataframe\">\n",
       "  <thead>\n",
       "    <tr style=\"text-align: right;\">\n",
       "      <th></th>\n",
       "      <th>main_category</th>\n",
       "      <th>n</th>\n",
       "      <th>f</th>\n",
       "    </tr>\n",
       "  </thead>\n",
       "  <tbody>\n",
       "    <tr>\n",
       "      <th>0</th>\n",
       "      <td>Film &amp; Video</td>\n",
       "      <td>63585</td>\n",
       "      <td>0.167921</td>\n",
       "    </tr>\n",
       "    <tr>\n",
       "      <th>1</th>\n",
       "      <td>Music</td>\n",
       "      <td>51918</td>\n",
       "      <td>0.137109</td>\n",
       "    </tr>\n",
       "    <tr>\n",
       "      <th>2</th>\n",
       "      <td>Publishing</td>\n",
       "      <td>39874</td>\n",
       "      <td>0.105303</td>\n",
       "    </tr>\n",
       "    <tr>\n",
       "      <th>3</th>\n",
       "      <td>Games</td>\n",
       "      <td>35231</td>\n",
       "      <td>0.093041</td>\n",
       "    </tr>\n",
       "    <tr>\n",
       "      <th>4</th>\n",
       "      <td>Technology</td>\n",
       "      <td>32569</td>\n",
       "      <td>0.086011</td>\n",
       "    </tr>\n",
       "    <tr>\n",
       "      <th>5</th>\n",
       "      <td>Design</td>\n",
       "      <td>30070</td>\n",
       "      <td>0.079411</td>\n",
       "    </tr>\n",
       "    <tr>\n",
       "      <th>6</th>\n",
       "      <td>Art</td>\n",
       "      <td>28153</td>\n",
       "      <td>0.074349</td>\n",
       "    </tr>\n",
       "    <tr>\n",
       "      <th>7</th>\n",
       "      <td>Food</td>\n",
       "      <td>24602</td>\n",
       "      <td>0.064971</td>\n",
       "    </tr>\n",
       "    <tr>\n",
       "      <th>8</th>\n",
       "      <td>Fashion</td>\n",
       "      <td>22816</td>\n",
       "      <td>0.060254</td>\n",
       "    </tr>\n",
       "    <tr>\n",
       "      <th>9</th>\n",
       "      <td>Theater</td>\n",
       "      <td>10913</td>\n",
       "      <td>0.028820</td>\n",
       "    </tr>\n",
       "    <tr>\n",
       "      <th>10</th>\n",
       "      <td>Comics</td>\n",
       "      <td>10819</td>\n",
       "      <td>0.028572</td>\n",
       "    </tr>\n",
       "    <tr>\n",
       "      <th>11</th>\n",
       "      <td>Photography</td>\n",
       "      <td>10779</td>\n",
       "      <td>0.028466</td>\n",
       "    </tr>\n",
       "    <tr>\n",
       "      <th>12</th>\n",
       "      <td>Crafts</td>\n",
       "      <td>8809</td>\n",
       "      <td>0.023264</td>\n",
       "    </tr>\n",
       "    <tr>\n",
       "      <th>13</th>\n",
       "      <td>Journalism</td>\n",
       "      <td>4755</td>\n",
       "      <td>0.012557</td>\n",
       "    </tr>\n",
       "    <tr>\n",
       "      <th>14</th>\n",
       "      <td>Dance</td>\n",
       "      <td>3768</td>\n",
       "      <td>0.009951</td>\n",
       "    </tr>\n",
       "  </tbody>\n",
       "</table>\n",
       "</div>"
      ],
      "text/plain": [
       "   main_category      n         f\n",
       "0   Film & Video  63585  0.167921\n",
       "1          Music  51918  0.137109\n",
       "2     Publishing  39874  0.105303\n",
       "3          Games  35231  0.093041\n",
       "4     Technology  32569  0.086011\n",
       "5         Design  30070  0.079411\n",
       "6            Art  28153  0.074349\n",
       "7           Food  24602  0.064971\n",
       "8        Fashion  22816  0.060254\n",
       "9        Theater  10913  0.028820\n",
       "10        Comics  10819  0.028572\n",
       "11   Photography  10779  0.028466\n",
       "12        Crafts   8809  0.023264\n",
       "13    Journalism   4755  0.012557\n",
       "14         Dance   3768  0.009951"
      ]
     },
     "execution_count": 7,
     "metadata": {},
     "output_type": "execute_result"
    }
   ],
   "source": [
    "effectifs = data[\"main_category\"].value_counts()\n",
    "modalites = effectifs.index # l'index de effectifs contient les modalités\n",
    "\n",
    "tab = pd.DataFrame(modalites, columns = [\"main_category\"]) # création du tableau à partir des modalités\n",
    "tab[\"n\"] = effectifs.values\n",
    "tab[\"f\"] = tab[\"n\"] / len(data) # len(data) renvoie la taille de l'échantillon\n",
    "tab"
   ]
  },
  {
   "cell_type": "code",
   "execution_count": 8,
   "metadata": {},
   "outputs": [
    {
     "data": {
      "text/html": [
       "<div>\n",
       "<style scoped>\n",
       "    .dataframe tbody tr th:only-of-type {\n",
       "        vertical-align: middle;\n",
       "    }\n",
       "\n",
       "    .dataframe tbody tr th {\n",
       "        vertical-align: top;\n",
       "    }\n",
       "\n",
       "    .dataframe thead th {\n",
       "        text-align: right;\n",
       "    }\n",
       "</style>\n",
       "<table border=\"1\" class=\"dataframe\">\n",
       "  <thead>\n",
       "    <tr style=\"text-align: right;\">\n",
       "      <th></th>\n",
       "      <th>main_category</th>\n",
       "      <th>n</th>\n",
       "      <th>f</th>\n",
       "      <th>F</th>\n",
       "    </tr>\n",
       "  </thead>\n",
       "  <tbody>\n",
       "    <tr>\n",
       "      <th>6</th>\n",
       "      <td>Art</td>\n",
       "      <td>28153</td>\n",
       "      <td>0.074349</td>\n",
       "      <td>0.074349</td>\n",
       "    </tr>\n",
       "    <tr>\n",
       "      <th>10</th>\n",
       "      <td>Comics</td>\n",
       "      <td>10819</td>\n",
       "      <td>0.028572</td>\n",
       "      <td>0.102921</td>\n",
       "    </tr>\n",
       "    <tr>\n",
       "      <th>12</th>\n",
       "      <td>Crafts</td>\n",
       "      <td>8809</td>\n",
       "      <td>0.023264</td>\n",
       "      <td>0.126184</td>\n",
       "    </tr>\n",
       "    <tr>\n",
       "      <th>14</th>\n",
       "      <td>Dance</td>\n",
       "      <td>3768</td>\n",
       "      <td>0.009951</td>\n",
       "      <td>0.136135</td>\n",
       "    </tr>\n",
       "    <tr>\n",
       "      <th>5</th>\n",
       "      <td>Design</td>\n",
       "      <td>30070</td>\n",
       "      <td>0.079411</td>\n",
       "      <td>0.215546</td>\n",
       "    </tr>\n",
       "    <tr>\n",
       "      <th>8</th>\n",
       "      <td>Fashion</td>\n",
       "      <td>22816</td>\n",
       "      <td>0.060254</td>\n",
       "      <td>0.275801</td>\n",
       "    </tr>\n",
       "    <tr>\n",
       "      <th>0</th>\n",
       "      <td>Film &amp; Video</td>\n",
       "      <td>63585</td>\n",
       "      <td>0.167921</td>\n",
       "      <td>0.443721</td>\n",
       "    </tr>\n",
       "    <tr>\n",
       "      <th>7</th>\n",
       "      <td>Food</td>\n",
       "      <td>24602</td>\n",
       "      <td>0.064971</td>\n",
       "      <td>0.508692</td>\n",
       "    </tr>\n",
       "    <tr>\n",
       "      <th>3</th>\n",
       "      <td>Games</td>\n",
       "      <td>35231</td>\n",
       "      <td>0.093041</td>\n",
       "      <td>0.601733</td>\n",
       "    </tr>\n",
       "    <tr>\n",
       "      <th>13</th>\n",
       "      <td>Journalism</td>\n",
       "      <td>4755</td>\n",
       "      <td>0.012557</td>\n",
       "      <td>0.614291</td>\n",
       "    </tr>\n",
       "    <tr>\n",
       "      <th>1</th>\n",
       "      <td>Music</td>\n",
       "      <td>51918</td>\n",
       "      <td>0.137109</td>\n",
       "      <td>0.751400</td>\n",
       "    </tr>\n",
       "    <tr>\n",
       "      <th>11</th>\n",
       "      <td>Photography</td>\n",
       "      <td>10779</td>\n",
       "      <td>0.028466</td>\n",
       "      <td>0.779866</td>\n",
       "    </tr>\n",
       "    <tr>\n",
       "      <th>2</th>\n",
       "      <td>Publishing</td>\n",
       "      <td>39874</td>\n",
       "      <td>0.105303</td>\n",
       "      <td>0.885169</td>\n",
       "    </tr>\n",
       "    <tr>\n",
       "      <th>4</th>\n",
       "      <td>Technology</td>\n",
       "      <td>32569</td>\n",
       "      <td>0.086011</td>\n",
       "      <td>0.971180</td>\n",
       "    </tr>\n",
       "    <tr>\n",
       "      <th>9</th>\n",
       "      <td>Theater</td>\n",
       "      <td>10913</td>\n",
       "      <td>0.028820</td>\n",
       "      <td>1.000000</td>\n",
       "    </tr>\n",
       "  </tbody>\n",
       "</table>\n",
       "</div>"
      ],
      "text/plain": [
       "   main_category      n         f         F\n",
       "6            Art  28153  0.074349  0.074349\n",
       "10        Comics  10819  0.028572  0.102921\n",
       "12        Crafts   8809  0.023264  0.126184\n",
       "14         Dance   3768  0.009951  0.136135\n",
       "5         Design  30070  0.079411  0.215546\n",
       "8        Fashion  22816  0.060254  0.275801\n",
       "0   Film & Video  63585  0.167921  0.443721\n",
       "7           Food  24602  0.064971  0.508692\n",
       "3          Games  35231  0.093041  0.601733\n",
       "13    Journalism   4755  0.012557  0.614291\n",
       "1          Music  51918  0.137109  0.751400\n",
       "11   Photography  10779  0.028466  0.779866\n",
       "2     Publishing  39874  0.105303  0.885169\n",
       "4     Technology  32569  0.086011  0.971180\n",
       "9        Theater  10913  0.028820  1.000000"
      ]
     },
     "execution_count": 8,
     "metadata": {},
     "output_type": "execute_result"
    }
   ],
   "source": [
    "tab = tab.sort_values(\"main_category\") # tri des valeurs de la variable X (croissant)\n",
    "tab[\"F\"] = tab[\"f\"].cumsum() # cumsum calcule la somme cumulée\n",
    "tab"
   ]
  },
  {
   "cell_type": "markdown",
   "metadata": {},
   "source": [
    "### –– Biais, Poids, Degrés de liberté"
   ]
  },
  {
   "cell_type": "markdown",
   "metadata": {},
   "source": [
    "$$Var(\\hat{f}(x)) = E(\\hat{f}(x)^2)-E(\\hat{f}(x))^2$$"
   ]
  },
  {
   "cell_type": "markdown",
   "metadata": {},
   "source": [
    "$$Biais(\\hat{f}(x)) = E(\\hat{f}(x) - f(x))$$"
   ]
  },
  {
   "cell_type": "markdown",
   "metadata": {},
   "source": [
    "$$Err(x) = Biais^2 + Var + ErreurIrreductible$$"
   ]
  },
  {
   "cell_type": "markdown",
   "metadata": {},
   "source": [
    "### –– Moyenne harmonique\n",
    "\n",
    "utilisée quand on veut trouver un bon compromis entre deux mesures a et b (toutes deux positives) où a grandit quand b diminue.  \n",
    "En Machine Learning, cette moyenne est utilisée dans le cadre de la F-mesure, qui cherche à faire un compromis entre la mesure de rappel et la mesure de précision. La F-mesure utilise donc la moyenne harmonique du rappel et de la précision.\n",
    "\n"
   ]
  },
  {
   "cell_type": "markdown",
   "metadata": {},
   "source": [
    "### –– Moyenne quadratique\n",
    "\n",
    "utilisée pour évaluer la performance d'un modèle statistique. Exemple courant en Machine Learning, le *RMSE* (Root Mean Square Error)."
   ]
  },
  {
   "cell_type": "markdown",
   "metadata": {},
   "source": [
    "## C. Concepts mathématiques"
   ]
  },
  {
   "cell_type": "markdown",
   "metadata": {},
   "source": [
    "### –– Descente de gradient\n",
    "\n",
    "La descente de gradient est une méthode de minimisation applicable aux fonctions différentiables. Le gradient indique en effet la direction de plus forte pente de la fonction ; si on suit la direction opposée au gradient, la fonction va donc décroître. L'algorithme de descente de gradient consiste à choisir un point au hasard, y évaluer le gradient de la fonction à minimiser, se déplacer dans la direction opposée à ce gradient, et réitérer jusqu'à ce que le gradient soit (à peu près) nul et la fonction donc localement minimale. Attention : si le problème n'est pas convexe, le minimum atteint par cet algorithme peut ne pas être global (d'où le « localement » dans la phrase précédente)."
   ]
  },
  {
   "cell_type": "markdown",
   "metadata": {},
   "source": [
    "### –– \n",
    "Eigenvectors and eigenvalues are used to reduce noise in data. They can help us improve efficiency in computational intensive tasks. They also eliminate features that have a strong correlation between them and also help in reducing over-fitting."
   ]
  },
  {
   "cell_type": "code",
   "execution_count": null,
   "metadata": {},
   "outputs": [],
   "source": []
  }
 ],
 "metadata": {
  "kernelspec": {
   "display_name": "Python 3",
   "language": "python",
   "name": "python3"
  },
  "language_info": {
   "codemirror_mode": {
    "name": "ipython",
    "version": 3
   },
   "file_extension": ".py",
   "mimetype": "text/x-python",
   "name": "python",
   "nbconvert_exporter": "python",
   "pygments_lexer": "ipython3",
   "version": "3.7.0"
  }
 },
 "nbformat": 4,
 "nbformat_minor": 2
}
