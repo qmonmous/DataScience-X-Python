{
 "cells": [
  {
   "cell_type": "markdown",
   "metadata": {},
   "source": [
    "# 13. Introduction au Deep Learning"
   ]
  },
  {
   "cell_type": "markdown",
   "metadata": {},
   "source": [
    "## –– Sommaire\n",
    "\n",
    "### A. Perceptrons et Réseaux de neurones  \n",
    "• Fonctionnement d'un perceptron  \n",
    "• Extension aux couches de neurones  \n",
    "• Fonctions d'activation  \n",
    "\n",
    "### B. Réseaux de neurones convolutifs (CNN)  \n",
    "\n",
    "\n",
    "### C. Réseaux de neurones récurrents (RNN)  \n"
   ]
  },
  {
   "cell_type": "markdown",
   "metadata": {},
   "source": [
    "Les réseaux de neurones s’inspirent du fonctionnement du cerveau humain.\n",
    "\n",
    "Un perceptron (assimilé au neurone) va...\n",
    "\n",
    "Le deep learning est \"deep\" parce que les réseaux créés sont profonds et ont de multiples couches.\n",
    "\n",
    "On va accumuler des couches de neurones successives et observer une montée progressive de l'abstraction."
   ]
  }
 ],
 "metadata": {
  "kernelspec": {
   "display_name": "Python 3",
   "language": "python",
   "name": "python3"
  },
  "language_info": {
   "codemirror_mode": {
    "name": "ipython",
    "version": 3
   },
   "file_extension": ".py",
   "mimetype": "text/x-python",
   "name": "python",
   "nbconvert_exporter": "python",
   "pygments_lexer": "ipython3",
   "version": "3.7.0"
  }
 },
 "nbformat": 4,
 "nbformat_minor": 2
}
