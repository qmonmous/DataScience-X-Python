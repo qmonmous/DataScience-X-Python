{
 "cells": [
  {
   "cell_type": "markdown",
   "metadata": {},
   "source": [
    "# IV. Supervised Modeling"
   ]
  },
  {
   "cell_type": "markdown",
   "metadata": {},
   "source": [
    "### Bias-Variance Tradeoff\n",
    "\n",
    "- https://openclassrooms.com/fr/courses/4011851-initiez-vous-au-machine-learning/4020646-la-generalisation-du-modele\n",
    "- https://openclassrooms.com/fr/courses/4011851-initiez-vous-au-machine-learning/4020646-la-generalisation-du-modele\n",
    "- https://openclassrooms.com/fr/courses/4011851-initiez-vous-au-machine-learning/4020651-gerez-le-fleau-de-la-dimension\n",
    "\n",
    "Overfitting (ou sur-apprentissage) :   \n",
    "Underfitting (ou sous-apprentissage) :\n",
    "\n",
    "Une variance trop élevée entraîne une tendance à l'overfitting.  \n",
    "Un biais trop important entraîne une tendance à l'underfitting.\n",
    "\n",
    "- **Réduire les dimensions**  \n",
    "\n",
    "Quand on se trouve dans le cas d'une variance excessive (trop forte dépendance au data set d'entraînement), réduire le nombre de dimensions du modèle (c'est à dire le nombre de variables en entrée) permet de diminuer la variance en simplifiant la complexité du modèle.\n",
    "\n",
    "- **Sélectionner et entraîner le bon modèle** \n",
    "\n",
    "Il existe plusieurs méthodes de sélection de modèle qui permettent de trouver la complexité optimale qui fait la balance entre le biais et la variance. La manière d'entraîner le modèle est primordiale aussi et il existe des méthodes pour minimiser la prise en compte de variances non-représentatives du modèle présentes dans le dataset.\n",
    "\n",
    "Un peu de patience, nous étudierons ces méthodes d'évaluation et d'entraînement de modèles dans un prochain cours...\n",
    "\n",
    "- **Utiliser des méthodes ensemblistes**\n",
    "\n",
    "Il faut aussi savoir qu'il existe toute une famille d'algorithmes appelées les méthodes d'ensembles qui se basent sur la combinaison de plusieurs modèles à haute variance et les aggrègent (par exemple en les moyennant) pour réduire la variance finale.\n",
    "\n",
    "---\n",
    "\n",
    "- **Knn**  \n",
    "\n",
    "Augmenter k permet de réduire la variance, et augmente donc le biais."
   ]
  },
  {
   "cell_type": "code",
   "execution_count": null,
   "metadata": {},
   "outputs": [],
   "source": []
  }
 ],
 "metadata": {
  "kernelspec": {
   "display_name": "Python 3",
   "language": "python",
   "name": "python3"
  },
  "language_info": {
   "codemirror_mode": {
    "name": "ipython",
    "version": 3
   },
   "file_extension": ".py",
   "mimetype": "text/x-python",
   "name": "python",
   "nbconvert_exporter": "python",
   "pygments_lexer": "ipython3",
   "version": "3.7.0"
  }
 },
 "nbformat": 4,
 "nbformat_minor": 2
}
