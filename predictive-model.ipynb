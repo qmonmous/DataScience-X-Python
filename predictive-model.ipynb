{
 "cells": [
  {
   "cell_type": "markdown",
   "metadata": {},
   "source": [
    "# ML on Kickstarter projects"
   ]
  },
  {
   "cell_type": "markdown",
   "metadata": {},
   "source": [
    "We aim at predicting if a kickstarter project is going to achieve is goal or not. We are going to do this by building a model out of a dataset scrapped on Kickstarter's website in january 2018.\n",
    "\n",
    "## Table of Contents:\n",
    "**[I. Data loading and overview](#one)**\n",
    "- [a. Loading the data](#one-a)\n",
    "- [b. Overview](#one-b)\n",
    "\n",
    "**[II. Data cleaning](#two)**\n",
    "- [a. Duplicated and missing values](#two-a)\n",
    "- [b. Deal with outliers](#two-b)\n",
    "\n",
    "**[III. Features engineering](#three)**\n",
    "- [a. Target](#three-a)\n",
    "- [b. Deal with categorical features](#three-b)\n",
    "\n",
    "- [e. Correlations and dimensionality reductions](#three-e)\n",
    "\n",
    "**[IV. Model selection](#four)**\n",
    "- [a. Split](#four-a)\n",
    "- [b. Metrics](#four-b)\n",
    "- [c. Models](#four-c)\n",
    "- [d. Cross-validation](#four-d)\n",
    "\n",
    "**[V. Hyperparameters tuning](#five)**\n",
    "\n",
    "**[VI. Training and predictions](#six)**"
   ]
  },
  {
   "cell_type": "markdown",
   "metadata": {},
   "source": [
    "## I. Data loading and overview <a id=\"one\"></a>"
   ]
  },
  {
   "cell_type": "code",
   "execution_count": 1,
   "metadata": {},
   "outputs": [],
   "source": [
    "import os\n",
    "\n",
    "import matplotlib.pyplot as plt\n",
    "import numpy as np\n",
    "import pandas as pd\n",
    "import seaborn as sns\n",
    "\n",
    "%matplotlib inline"
   ]
  },
  {
   "cell_type": "markdown",
   "metadata": {},
   "source": [
    "### a. Loading the data <a id=\"one-a\"></a>"
   ]
  },
  {
   "cell_type": "code",
   "execution_count": 2,
   "metadata": {},
   "outputs": [
    {
     "data": {
      "text/html": [
       "<div>\n",
       "<style scoped>\n",
       "    .dataframe tbody tr th:only-of-type {\n",
       "        vertical-align: middle;\n",
       "    }\n",
       "\n",
       "    .dataframe tbody tr th {\n",
       "        vertical-align: top;\n",
       "    }\n",
       "\n",
       "    .dataframe thead th {\n",
       "        text-align: right;\n",
       "    }\n",
       "</style>\n",
       "<table border=\"1\" class=\"dataframe\">\n",
       "  <thead>\n",
       "    <tr style=\"text-align: right;\">\n",
       "      <th></th>\n",
       "      <th>name</th>\n",
       "      <th>category</th>\n",
       "      <th>main_category</th>\n",
       "      <th>currency</th>\n",
       "      <th>deadline</th>\n",
       "      <th>goal</th>\n",
       "      <th>launched</th>\n",
       "      <th>pledged</th>\n",
       "      <th>state</th>\n",
       "      <th>backers</th>\n",
       "      <th>country</th>\n",
       "      <th>usd pledged</th>\n",
       "      <th>usd_pledged_real</th>\n",
       "      <th>usd_goal_real</th>\n",
       "    </tr>\n",
       "    <tr>\n",
       "      <th>ID</th>\n",
       "      <th></th>\n",
       "      <th></th>\n",
       "      <th></th>\n",
       "      <th></th>\n",
       "      <th></th>\n",
       "      <th></th>\n",
       "      <th></th>\n",
       "      <th></th>\n",
       "      <th></th>\n",
       "      <th></th>\n",
       "      <th></th>\n",
       "      <th></th>\n",
       "      <th></th>\n",
       "      <th></th>\n",
       "    </tr>\n",
       "  </thead>\n",
       "  <tbody>\n",
       "    <tr>\n",
       "      <th>1000002330</th>\n",
       "      <td>The Songs of Adelaide &amp; Abullah</td>\n",
       "      <td>Poetry</td>\n",
       "      <td>Publishing</td>\n",
       "      <td>GBP</td>\n",
       "      <td>2015-10-09</td>\n",
       "      <td>1000.0</td>\n",
       "      <td>2015-08-11 12:12:28</td>\n",
       "      <td>0.0</td>\n",
       "      <td>failed</td>\n",
       "      <td>0</td>\n",
       "      <td>GB</td>\n",
       "      <td>0.0</td>\n",
       "      <td>0.0</td>\n",
       "      <td>1533.95</td>\n",
       "    </tr>\n",
       "    <tr>\n",
       "      <th>1000003930</th>\n",
       "      <td>Greeting From Earth: ZGAC Arts Capsule For ET</td>\n",
       "      <td>Narrative Film</td>\n",
       "      <td>Film &amp; Video</td>\n",
       "      <td>USD</td>\n",
       "      <td>2017-11-01</td>\n",
       "      <td>30000.0</td>\n",
       "      <td>2017-09-02 04:43:57</td>\n",
       "      <td>2421.0</td>\n",
       "      <td>failed</td>\n",
       "      <td>15</td>\n",
       "      <td>US</td>\n",
       "      <td>100.0</td>\n",
       "      <td>2421.0</td>\n",
       "      <td>30000.00</td>\n",
       "    </tr>\n",
       "  </tbody>\n",
       "</table>\n",
       "</div>"
      ],
      "text/plain": [
       "                                                     name        category  \\\n",
       "ID                                                                          \n",
       "1000002330                The Songs of Adelaide & Abullah          Poetry   \n",
       "1000003930  Greeting From Earth: ZGAC Arts Capsule For ET  Narrative Film   \n",
       "\n",
       "           main_category currency    deadline     goal             launched  \\\n",
       "ID                                                                            \n",
       "1000002330    Publishing      GBP  2015-10-09   1000.0  2015-08-11 12:12:28   \n",
       "1000003930  Film & Video      USD  2017-11-01  30000.0  2017-09-02 04:43:57   \n",
       "\n",
       "            pledged   state  backers country  usd pledged  usd_pledged_real  \\\n",
       "ID                                                                            \n",
       "1000002330      0.0  failed        0      GB          0.0               0.0   \n",
       "1000003930   2421.0  failed       15      US        100.0            2421.0   \n",
       "\n",
       "            usd_goal_real  \n",
       "ID                         \n",
       "1000002330        1533.95  \n",
       "1000003930       30000.00  "
      ]
     },
     "execution_count": 2,
     "metadata": {},
     "output_type": "execute_result"
    }
   ],
   "source": [
    "FILEPATH = os.path.join('data', 'dataset.csv')\n",
    "\n",
    "df = pd.read_csv(FILEPATH, index_col=0)\n",
    "df.head(2)"
   ]
  },
  {
   "cell_type": "markdown",
   "metadata": {},
   "source": [
    "### b. Overview <a id=\"one-b\"></a>"
   ]
  },
  {
   "cell_type": "markdown",
   "metadata": {},
   "source": [
    "Colonne | Description\n",
    "------- | -------\n",
    "**ID** | internal kickstarter id\n",
    "**name** | name of project - a project is a finite work with a clear goal that you’d like to bring to life. Think albums, books, or films\n",
    "**category** | category\n",
    "**main_category** | category of campaign\n",
    "**currency** | currency used to support\n",
    "**deadline** | deadline for crowdfunding\n",
    "**goal** | fundraising goal - the funding goal is the amount of money that a creator needs to complete their project\n",
    "**launched** | date launched\n",
    "**pledged** | pledged amount in the project currency\n",
    "**state** | current condition the project is in\n",
    "**backers** | number of backers\n",
    "**country** | country pledged from\n",
    "**usd pledged** | amount of money pledged in USD (conversion made by Kickstarter)\n",
    "**usd_pledged_real** | amount of money pledged in USD (conversion made by fixer.io api)\n",
    "**usd_goal_real** | goal amount in USD (conversion made by fixer.io api)"
   ]
  },
  {
   "cell_type": "code",
   "execution_count": 3,
   "metadata": {},
   "outputs": [
    {
     "name": "stdout",
     "output_type": "stream",
     "text": [
      "<class 'pandas.core.frame.DataFrame'>\n",
      "Int64Index: 378661 entries, 1000002330 to 999988282\n",
      "Data columns (total 14 columns):\n",
      "name                378657 non-null object\n",
      "category            378661 non-null object\n",
      "main_category       378661 non-null object\n",
      "currency            378661 non-null object\n",
      "deadline            378661 non-null object\n",
      "goal                378661 non-null float64\n",
      "launched            378661 non-null object\n",
      "pledged             378661 non-null float64\n",
      "state               378661 non-null object\n",
      "backers             378661 non-null int64\n",
      "country             378661 non-null object\n",
      "usd pledged         374864 non-null float64\n",
      "usd_pledged_real    378661 non-null float64\n",
      "usd_goal_real       378661 non-null float64\n",
      "dtypes: float64(5), int64(1), object(8)\n",
      "memory usage: 43.3+ MB\n"
     ]
    }
   ],
   "source": [
    "df.info()"
   ]
  },
  {
   "cell_type": "code",
   "execution_count": 4,
   "metadata": {
    "scrolled": true
   },
   "outputs": [
    {
     "data": {
      "text/html": [
       "<div>\n",
       "<style scoped>\n",
       "    .dataframe tbody tr th:only-of-type {\n",
       "        vertical-align: middle;\n",
       "    }\n",
       "\n",
       "    .dataframe tbody tr th {\n",
       "        vertical-align: top;\n",
       "    }\n",
       "\n",
       "    .dataframe thead th {\n",
       "        text-align: right;\n",
       "    }\n",
       "</style>\n",
       "<table border=\"1\" class=\"dataframe\">\n",
       "  <thead>\n",
       "    <tr style=\"text-align: right;\">\n",
       "      <th></th>\n",
       "      <th>goal</th>\n",
       "      <th>pledged</th>\n",
       "      <th>backers</th>\n",
       "      <th>usd pledged</th>\n",
       "      <th>usd_pledged_real</th>\n",
       "      <th>usd_goal_real</th>\n",
       "    </tr>\n",
       "  </thead>\n",
       "  <tbody>\n",
       "    <tr>\n",
       "      <th>count</th>\n",
       "      <td>3.786610e+05</td>\n",
       "      <td>3.786610e+05</td>\n",
       "      <td>378661.000000</td>\n",
       "      <td>3.748640e+05</td>\n",
       "      <td>3.786610e+05</td>\n",
       "      <td>3.786610e+05</td>\n",
       "    </tr>\n",
       "    <tr>\n",
       "      <th>mean</th>\n",
       "      <td>4.908079e+04</td>\n",
       "      <td>9.682979e+03</td>\n",
       "      <td>105.617476</td>\n",
       "      <td>7.036729e+03</td>\n",
       "      <td>9.058924e+03</td>\n",
       "      <td>4.545440e+04</td>\n",
       "    </tr>\n",
       "    <tr>\n",
       "      <th>std</th>\n",
       "      <td>1.183391e+06</td>\n",
       "      <td>9.563601e+04</td>\n",
       "      <td>907.185035</td>\n",
       "      <td>7.863975e+04</td>\n",
       "      <td>9.097334e+04</td>\n",
       "      <td>1.152950e+06</td>\n",
       "    </tr>\n",
       "    <tr>\n",
       "      <th>min</th>\n",
       "      <td>1.000000e-02</td>\n",
       "      <td>0.000000e+00</td>\n",
       "      <td>0.000000</td>\n",
       "      <td>0.000000e+00</td>\n",
       "      <td>0.000000e+00</td>\n",
       "      <td>1.000000e-02</td>\n",
       "    </tr>\n",
       "    <tr>\n",
       "      <th>25%</th>\n",
       "      <td>2.000000e+03</td>\n",
       "      <td>3.000000e+01</td>\n",
       "      <td>2.000000</td>\n",
       "      <td>1.698000e+01</td>\n",
       "      <td>3.100000e+01</td>\n",
       "      <td>2.000000e+03</td>\n",
       "    </tr>\n",
       "    <tr>\n",
       "      <th>50%</th>\n",
       "      <td>5.200000e+03</td>\n",
       "      <td>6.200000e+02</td>\n",
       "      <td>12.000000</td>\n",
       "      <td>3.947200e+02</td>\n",
       "      <td>6.243300e+02</td>\n",
       "      <td>5.500000e+03</td>\n",
       "    </tr>\n",
       "    <tr>\n",
       "      <th>75%</th>\n",
       "      <td>1.600000e+04</td>\n",
       "      <td>4.076000e+03</td>\n",
       "      <td>56.000000</td>\n",
       "      <td>3.034090e+03</td>\n",
       "      <td>4.050000e+03</td>\n",
       "      <td>1.550000e+04</td>\n",
       "    </tr>\n",
       "    <tr>\n",
       "      <th>max</th>\n",
       "      <td>1.000000e+08</td>\n",
       "      <td>2.033899e+07</td>\n",
       "      <td>219382.000000</td>\n",
       "      <td>2.033899e+07</td>\n",
       "      <td>2.033899e+07</td>\n",
       "      <td>1.663614e+08</td>\n",
       "    </tr>\n",
       "  </tbody>\n",
       "</table>\n",
       "</div>"
      ],
      "text/plain": [
       "               goal       pledged        backers   usd pledged  \\\n",
       "count  3.786610e+05  3.786610e+05  378661.000000  3.748640e+05   \n",
       "mean   4.908079e+04  9.682979e+03     105.617476  7.036729e+03   \n",
       "std    1.183391e+06  9.563601e+04     907.185035  7.863975e+04   \n",
       "min    1.000000e-02  0.000000e+00       0.000000  0.000000e+00   \n",
       "25%    2.000000e+03  3.000000e+01       2.000000  1.698000e+01   \n",
       "50%    5.200000e+03  6.200000e+02      12.000000  3.947200e+02   \n",
       "75%    1.600000e+04  4.076000e+03      56.000000  3.034090e+03   \n",
       "max    1.000000e+08  2.033899e+07  219382.000000  2.033899e+07   \n",
       "\n",
       "       usd_pledged_real  usd_goal_real  \n",
       "count      3.786610e+05   3.786610e+05  \n",
       "mean       9.058924e+03   4.545440e+04  \n",
       "std        9.097334e+04   1.152950e+06  \n",
       "min        0.000000e+00   1.000000e-02  \n",
       "25%        3.100000e+01   2.000000e+03  \n",
       "50%        6.243300e+02   5.500000e+03  \n",
       "75%        4.050000e+03   1.550000e+04  \n",
       "max        2.033899e+07   1.663614e+08  "
      ]
     },
     "execution_count": 4,
     "metadata": {},
     "output_type": "execute_result"
    }
   ],
   "source": [
    "df.describe()"
   ]
  },
  {
   "cell_type": "markdown",
   "metadata": {},
   "source": [
    "We only keep the `_real` features as amounts are fixed by fixer.io API. We also remove `usd_pledged_real` because we won't have this information when trying to predict the final state of a new project."
   ]
  },
  {
   "cell_type": "code",
   "execution_count": 5,
   "metadata": {},
   "outputs": [],
   "source": [
    "df.drop(['pledged'], axis=1, inplace=True)\n",
    "df.drop(['usd pledged'], axis=1, inplace=True)\n",
    "df.drop(['usd_pledged_real'], axis=1, inplace=True)\n",
    "df.drop(['goal'], axis=1, inplace=True)"
   ]
  },
  {
   "cell_type": "markdown",
   "metadata": {},
   "source": [
    "## II. Data cleaning <a id=\"two\"></a>"
   ]
  },
  {
   "cell_type": "markdown",
   "metadata": {},
   "source": [
    "### a. Duplicated and missing values <a id=\"two-a\"></a>"
   ]
  },
  {
   "cell_type": "code",
   "execution_count": 6,
   "metadata": {
    "scrolled": true
   },
   "outputs": [
    {
     "data": {
      "text/plain": [
       "0"
      ]
     },
     "execution_count": 6,
     "metadata": {},
     "output_type": "execute_result"
    }
   ],
   "source": [
    "#Count the number of duplicated rows\n",
    "df.duplicated().sum()"
   ]
  },
  {
   "cell_type": "code",
   "execution_count": 7,
   "metadata": {},
   "outputs": [
    {
     "data": {
      "text/plain": [
       "name             4\n",
       "category         0\n",
       "main_category    0\n",
       "currency         0\n",
       "deadline         0\n",
       "launched         0\n",
       "state            0\n",
       "backers          0\n",
       "country          0\n",
       "usd_goal_real    0\n",
       "dtype: int64"
      ]
     },
     "execution_count": 7,
     "metadata": {},
     "output_type": "execute_result"
    }
   ],
   "source": [
    "#Count the number of NaN values for each column\n",
    "df.isna().sum()"
   ]
  },
  {
   "cell_type": "markdown",
   "metadata": {},
   "source": [
    "There are missing values for `name`, let's drop the rows concerned."
   ]
  },
  {
   "cell_type": "code",
   "execution_count": 8,
   "metadata": {},
   "outputs": [],
   "source": [
    "#Drop all NaN values\n",
    "df = df.dropna()"
   ]
  },
  {
   "cell_type": "markdown",
   "metadata": {},
   "source": [
    "### b. Deal with outliers <a id=\"two-b\"></a>"
   ]
  },
  {
   "cell_type": "code",
   "execution_count": 9,
   "metadata": {},
   "outputs": [
    {
     "data": {
      "image/png": "[encoded data removed]",
      "text/plain": [
       "<Figure size 1296x432 with 1 Axes>"
      ]
     },
     "metadata": {
      "needs_background": "light"
     },
     "output_type": "display_data"
    }
   ],
   "source": [
    "#Visualize univariate outliers\n",
    "plt.subplots(figsize=(18,6))\n",
    "plt.title(\"Outliers visualization\")\n",
    "df.boxplot();"
   ]
  },
  {
   "cell_type": "code",
   "execution_count": 10,
   "metadata": {
    "scrolled": true
   },
   "outputs": [
    {
     "name": "stdout",
     "output_type": "stream",
     "text": [
      "name             FUCK Potato Salad. Paleo Potato Brownies!\n",
      "category                                              Food\n",
      "main_category                                         Food\n",
      "currency                                               GBP\n",
      "deadline                                        2014-08-08\n",
      "launched                               2014-07-09 00:24:34\n",
      "state                                               failed\n",
      "backers                                                  0\n",
      "country                                                 GB\n",
      "usd_goal_real                                  1.66361e+08\n",
      "Name: 1243678698, dtype: object\n",
      "name              A Celtic Lovestory\n",
      "category                       Drama\n",
      "main_category           Film & Video\n",
      "currency                         GBP\n",
      "deadline                  2015-11-30\n",
      "launched         2015-11-17 00:47:15\n",
      "state                         failed\n",
      "backers                            0\n",
      "country                           GB\n",
      "usd_goal_real            1.51396e+08\n",
      "Name: 2000749004, dtype: object\n",
      "name             DER NEANDERTALER (Kinofilm mit Starbesetzung i...\n",
      "category                                            Movie Theaters\n",
      "main_category                                         Film & Video\n",
      "currency                                                       EUR\n",
      "deadline                                                2017-03-14\n",
      "launched                                       2017-01-13 20:08:41\n",
      "state                                                       failed\n",
      "backers                                                          2\n",
      "country                                                         DE\n",
      "usd_goal_real                                           1.0737e+08\n",
      "Name: 2132015082, dtype: object\n",
      "name             Kitchen from Austria in Switzerland\n",
      "category                                 Restaurants\n",
      "main_category                                   Food\n",
      "currency                                         CHF\n",
      "deadline                                  2015-10-05\n",
      "launched                         2015-08-06 19:12:10\n",
      "state                                         failed\n",
      "backers                                            0\n",
      "country                                           CH\n",
      "usd_goal_real                            1.04057e+08\n",
      "Name: 219702078, dtype: object\n",
      "name             Hydroponic's Skyscraper(un gratte-ciel hydropo...\n",
      "category                                                Technology\n",
      "main_category                                           Technology\n",
      "currency                                                       EUR\n",
      "deadline                                                2015-10-24\n",
      "launched                                       2015-08-25 23:52:30\n",
      "state                                                       failed\n",
      "backers                                                          2\n",
      "country                                                         FR\n",
      "usd_goal_real                                           1.1017e+08\n",
      "Name: 944541075, dtype: object\n"
     ]
    }
   ],
   "source": [
    "#Take a deeper look at univariate outliers\n",
    "i = 0\n",
    "for row in df['usd_goal_real']:\n",
    "    if row > 100000000:\n",
    "        print(df.iloc[i])\n",
    "    i += 1"
   ]
  },
  {
   "cell_type": "code",
   "execution_count": 11,
   "metadata": {},
   "outputs": [
    {
     "name": "stdout",
     "output_type": "stream",
     "text": [
      "373\n"
     ]
    }
   ],
   "source": [
    "#Count the number of 1$ dollar (or less) projects.\n",
    "i = 0\n",
    "for row in df['usd_goal_real']:\n",
    "    if row <= 1:\n",
    "        i += 1\n",
    "print(i)"
   ]
  },
  {
   "cell_type": "code",
   "execution_count": 12,
   "metadata": {},
   "outputs": [
    {
     "data": {
      "image/png": "[encoded data removed]",
      "text/plain": [
       "<Figure size 1296x432 with 1 Axes>"
      ]
     },
     "metadata": {
      "needs_background": "light"
     },
     "output_type": "display_data"
    }
   ],
   "source": [
    "#Visualize the state of these rows.\n",
    "one_dollar = {}\n",
    "one_dollar = pd.DataFrame(data=one_dollar)\n",
    "for row in df['usd_goal_real']:\n",
    "    if row <= 1:\n",
    "        one_dollar = df\n",
    "\n",
    "fig, ax = plt.subplots(figsize=(18, 6))\n",
    "sns.countplot(one_dollar['state'], ax=ax).set_title('States occurences');"
   ]
  },
  {
   "cell_type": "markdown",
   "metadata": {},
   "source": [
    "This histogram showing states of one-dollar projects looks like the one I made below for the entire dataset. So it might not help to create $1 dollar projects. Now let's get rid of univariate outliers to build a better model."
   ]
  },
  {
   "cell_type": "code",
   "execution_count": 13,
   "metadata": {},
   "outputs": [],
   "source": [
    "#Delete univariate outliers using sigma-clipping operations\n",
    "quartiles = np.percentile(df['usd_goal_real'], [25, 50, 75])\n",
    "mu = quartiles[1]\n",
    "sig = 0.74 * (quartiles[2] - quartiles[0])\n",
    "\n",
    "df = df.query('(usd_goal_real > @mu - 5 * @sig) & (usd_goal_real < @mu + 5 * @sig)')"
   ]
  },
  {
   "cell_type": "code",
   "execution_count": 14,
   "metadata": {},
   "outputs": [],
   "source": [
    "#Delete univariate outliers using IQR\n",
    "quartiles = np.percentile(df['usd_goal_real'], [25, 50, 75])\n",
    "Q1 = quartiles[0]\n",
    "Q3 = quartiles[2]\n",
    "IQR = Q3 - Q1\n",
    "\n",
    "df = df.query('(usd_goal_real > (@Q1 - 1.5 * @IQR)) & (usd_goal_real < (@Q3 + 1.5 * @IQR))')"
   ]
  },
  {
   "cell_type": "code",
   "execution_count": 15,
   "metadata": {},
   "outputs": [],
   "source": [
    "#Visualize multivariate outliers\n",
    "#sns.pairplot(data=df, hue=\"state\");"
   ]
  },
  {
   "cell_type": "markdown",
   "metadata": {},
   "source": [
    "## III. Features engineering <a id=\"three\"></a>"
   ]
  },
  {
   "cell_type": "markdown",
   "metadata": {},
   "source": [
    "### a. Target <a id=\"three-a\"></a>"
   ]
  },
  {
   "cell_type": "markdown",
   "metadata": {},
   "source": [
    "First of all, let's visualize the different states."
   ]
  },
  {
   "cell_type": "code",
   "execution_count": 16,
   "metadata": {
    "scrolled": true
   },
   "outputs": [
    {
     "data": {
      "image/png": "[encoded data removed]",
      "text/plain": [
       "<Figure size 1296x432 with 1 Axes>"
      ]
     },
     "metadata": {
      "needs_background": "light"
     },
     "output_type": "display_data"
    }
   ],
   "source": [
    "fig, ax = plt.subplots(figsize=(18, 6))\n",
    "sns.countplot(df['state'], ax=ax).set_title('States occurences');"
   ]
  },
  {
   "cell_type": "markdown",
   "metadata": {},
   "source": [
    "We'll only keep the final states: `failed` and `successful`."
   ]
  },
  {
   "cell_type": "code",
   "execution_count": 17,
   "metadata": {},
   "outputs": [
    {
     "name": "stdout",
     "output_type": "stream",
     "text": [
      "0.4397907793152649 0.5602092206847351\n"
     ]
    }
   ],
   "source": [
    "df = df.loc[(df['state'] == \"successful\") | (df['state'] == \"failed\")]\n",
    "\n",
    "print(sum(df['state'] == \"successful\") / df.shape[0], sum(df['state'] == \"failed\") / df.shape[0])"
   ]
  },
  {
   "cell_type": "markdown",
   "metadata": {},
   "source": [
    "A feature that would be interesting to create is the time people had to support the project."
   ]
  },
  {
   "cell_type": "code",
   "execution_count": 18,
   "metadata": {},
   "outputs": [],
   "source": [
    "from datetime import datetime\n",
    "\n",
    "df[\"launched\"] = pd.to_datetime(df.launched)\n",
    "df[\"deadline\"] = pd.to_datetime(df.deadline)\n",
    "\n",
    "df['time_period'] = (df['deadline'] - df['launched']).dt.days"
   ]
  },
  {
   "cell_type": "markdown",
   "metadata": {},
   "source": [
    "We could also create a feature for the month of launch but let's check if it would be relevant first."
   ]
  },
  {
   "cell_type": "code",
   "execution_count": 19,
   "metadata": {
    "scrolled": true
   },
   "outputs": [
    {
     "data": {
      "image/png": "[encoded data removed]",
      "text/plain": [
       "<Figure size 1296x432 with 1 Axes>"
      ]
     },
     "metadata": {
      "needs_background": "light"
     },
     "output_type": "display_data"
    }
   ],
   "source": [
    "df['launched_month'] = df.launched.dt.month\n",
    "\n",
    "a = df.groupby('launched_month')\n",
    "a = a['state'].value_counts(normalize=True).unstack()\n",
    "a = a.sort_values(by=['launched_month'],ascending=False)\n",
    "a.plot(kind='barh', stacked=True, figsize=(18,6), title=\"State depending on the month of launch\");"
   ]
  },
  {
   "cell_type": "markdown",
   "metadata": {},
   "source": [
    "July and December tend to be the worst months to launch a project, probably because of summer holidays and christmas. Let's keep this new feature."
   ]
  },
  {
   "cell_type": "markdown",
   "metadata": {},
   "source": [
    "Now let's try to figure out things from project's names. We could check if its length affects the final states."
   ]
  },
  {
   "cell_type": "code",
   "execution_count": 20,
   "metadata": {},
   "outputs": [
    {
     "data": {
      "image/png": "[encoded data removed]",
      "text/plain": [
       "<Figure size 1296x1296 with 1 Axes>"
      ]
     },
     "metadata": {
      "needs_background": "light"
     },
     "output_type": "display_data"
    }
   ],
   "source": [
    "#Create the feature\n",
    "df['name_len'] = df['name'].str.len()\n",
    "\n",
    "#Visualize state depending on name's length\n",
    "a = df.groupby('name_len')\n",
    "a = a['state'].value_counts(normalize=True).unstack()\n",
    "a = a.sort_values(by=['name_len'],ascending=False)\n",
    "a.plot(kind='barh', stacked=True, figsize=(18,18), title=\"State depending on name's length\");"
   ]
  },
  {
   "cell_type": "markdown",
   "metadata": {},
   "source": [
    "We can see that the name of the projects can't exceed 85 letters, otherwise they are canceled. These projects won't help our predictive model as they are out of kickstarter rules. Let's remove them."
   ]
  },
  {
   "cell_type": "code",
   "execution_count": 21,
   "metadata": {},
   "outputs": [],
   "source": [
    "df.drop(df[df['name_len'] > 85].index, inplace=True)"
   ]
  },
  {
   "cell_type": "code",
   "execution_count": 22,
   "metadata": {},
   "outputs": [
    {
     "name": "stdout",
     "output_type": "stream",
     "text": [
      "<class 'pandas.core.frame.DataFrame'>\n",
      "Int64Index: 283146 entries, 1000002330 to 999988282\n",
      "Data columns (total 13 columns):\n",
      "name              283146 non-null object\n",
      "category          283146 non-null int16\n",
      "main_category     283146 non-null int8\n",
      "currency          283146 non-null int8\n",
      "deadline          283146 non-null datetime64[ns]\n",
      "launched          283146 non-null datetime64[ns]\n",
      "state             283146 non-null object\n",
      "backers           283146 non-null int64\n",
      "country           283146 non-null int8\n",
      "usd_goal_real     283146 non-null float64\n",
      "time_period       283146 non-null int64\n",
      "launched_month    283146 non-null int64\n",
      "name_len          283146 non-null int64\n",
      "dtypes: datetime64[ns](2), float64(1), int16(1), int64(4), int8(3), object(2)\n",
      "memory usage: 23.0+ MB\n"
     ]
    }
   ],
   "source": [
    "#Reformat categorical features so they can be used in the models\n",
    "df[\"category\"] = df[\"category\"].astype(\"category\").cat.codes\n",
    "df[\"main_category\"] = df[\"main_category\"].astype(\"category\").cat.codes\n",
    "df[\"currency\"] = df[\"currency\"].astype(\"category\").cat.codes\n",
    "df[\"country\"] = df[\"country\"].astype(\"category\").cat.codes\n",
    "#df[\"state\"] = df[\"state\"].astype(\"category\").cat.codes\n",
    "df.info()"
   ]
  },
  {
   "cell_type": "code",
   "execution_count": 23,
   "metadata": {},
   "outputs": [],
   "source": [
    "#Scaling data\n",
    "from sklearn import preprocessing\n",
    "\n",
    "scaled_df = df.loc[:, ['name_len', 'launched_month', 'currency', 'time_period', 'usd_goal_real', 'backers', 'category', 'main_category', 'country']]\n",
    "names = scaled_df.columns\n",
    "scaler = preprocessing.StandardScaler()\n",
    "\n",
    "scaled_df = scaler.fit_transform(scaled_df)\n",
    "scaled_df = pd.DataFrame(scaled_df, columns=names)"
   ]
  },
  {
   "cell_type": "markdown",
   "metadata": {},
   "source": [
    "### d. Correlations and dimensionality reductions <a id=\"three-d\"></a>"
   ]
  },
  {
   "cell_type": "code",
   "execution_count": 24,
   "metadata": {
    "scrolled": true
   },
   "outputs": [
    {
     "data": {
      "image/png": "[encoded data removed]",
      "text/plain": [
       "<Figure size 864x360 with 2 Axes>"
      ]
     },
     "metadata": {
      "needs_background": "light"
     },
     "output_type": "display_data"
    }
   ],
   "source": [
    "#Correlations between variables\n",
    "fig, ax = plt.subplots(figsize=(12,5))  \n",
    "sns.heatmap(data=scaled_df.corr(), annot=True, cmap = plt.cm.RdYlBu_r, linewidths=.1, ax=ax).set_title('Correlations between variables');"
   ]
  },
  {
   "cell_type": "markdown",
   "metadata": {},
   "source": [
    "Currencies and countries are highly correlated. We'll only keep countries because they provide a more precise information."
   ]
  },
  {
   "cell_type": "markdown",
   "metadata": {},
   "source": [
    "## IV. Model selection <a id=\"four\"></a>"
   ]
  },
  {
   "cell_type": "markdown",
   "metadata": {},
   "source": [
    "### a. Split <a id=\"four-a\"></a>"
   ]
  },
  {
   "cell_type": "code",
   "execution_count": 25,
   "metadata": {},
   "outputs": [],
   "source": [
    "#Split the labeled data frame into two sets: features and target\n",
    "X = df.loc[:, ['name_len', 'launched_month', 'time_period', 'usd_goal_real', 'backers', 'category', 'main_category', 'country']]\n",
    "y = df.loc[:, 'state']"
   ]
  },
  {
   "cell_type": "code",
   "execution_count": 26,
   "metadata": {},
   "outputs": [
    {
     "data": {
      "text/plain": [
       "((226516, 8), (226516,), (56630, 8), (56630,))"
      ]
     },
     "execution_count": 26,
     "metadata": {},
     "output_type": "execute_result"
    }
   ],
   "source": [
    "#Split the labeled data frame into two sets to train then test the models\n",
    "from sklearn.model_selection import train_test_split\n",
    "\n",
    "X_train, X_test, y_train, y_test = train_test_split(X, y, test_size=0.2, random_state=42, stratify=y)\n",
    "X_train.shape, y_train.shape, X_test.shape, y_test.shape"
   ]
  },
  {
   "cell_type": "markdown",
   "metadata": {},
   "source": [
    "### b. Models <a id=\"four-b\"></a>"
   ]
  },
  {
   "cell_type": "code",
   "execution_count": 27,
   "metadata": {
    "scrolled": false
   },
   "outputs": [],
   "source": [
    "#%%time\n",
    "#from sklearn.ensemble import RandomForestClassifier\n",
    "\n",
    "#rf_model = RandomForestClassifier(n_estimators=20)\n",
    "#rf_model.fit(X_train, y_train)\n",
    "#print(rf_model.score(X_train, y_train), rf_model.score(X_test, y_test))"
   ]
  },
  {
   "cell_type": "code",
   "execution_count": 28,
   "metadata": {},
   "outputs": [],
   "source": [
    "#%%time\n",
    "#from sklearn.tree import DecisionTreeClassifier\n",
    "\n",
    "#dt_model = DecisionTreeClassifier(max_depth=10)\n",
    "#dt_model.fit(X_train, y_train)\n",
    "#print(dt_model.score(X_train, y_train), dt_model.score(X_test, y_test))"
   ]
  },
  {
   "cell_type": "code",
   "execution_count": 29,
   "metadata": {},
   "outputs": [],
   "source": [
    "#%%time\n",
    "#import xgboost as xgb\n",
    "#from xgboost.sklearn import XGBClassifier\n",
    "\n",
    "#xgb_model = xgb.XGBClassifier()\n",
    "#xgb_model.fit(X_train, y_train)\n",
    "#print(xgb_model.score(X_train, y_train), xgb_model.score(X_test, y_test))"
   ]
  },
  {
   "cell_type": "code",
   "execution_count": 30,
   "metadata": {},
   "outputs": [
    {
     "name": "stderr",
     "output_type": "stream",
     "text": [
      "/anaconda3/lib/python3.7/site-packages/sklearn/ensemble/weight_boosting.py:29: DeprecationWarning: numpy.core.umath_tests is an internal NumPy module and should not be imported. It will be removed in a future NumPy release.\n",
      "  from numpy.core.umath_tests import inner1d\n"
     ]
    },
    {
     "name": "stdout",
     "output_type": "stream",
     "text": [
      "0.9280668915220117 0.9266113367473071\n",
      "CPU times: user 24.3 s, sys: 627 ms, total: 25 s\n",
      "Wall time: 25.3 s\n"
     ]
    }
   ],
   "source": [
    "%%time\n",
    "from sklearn.ensemble import GradientBoostingClassifier\n",
    "\n",
    "gb_model = GradientBoostingClassifier(n_estimators=100)\n",
    "gb_model.fit(X_train, y_train)\n",
    "print(gb_model.score(X_train, y_train), gb_model.score(X_test, y_test))"
   ]
  },
  {
   "cell_type": "markdown",
   "metadata": {},
   "source": [
    "### c. Cross-validation <a id=\"four-c\"></a>"
   ]
  },
  {
   "cell_type": "code",
   "execution_count": 35,
   "metadata": {},
   "outputs": [
    {
     "name": "stdout",
     "output_type": "stream",
     "text": [
      "[0.9294985  0.92634042 0.92625212 0.92605346 0.92881266]\n",
      "0.9273914332450431\n"
     ]
    }
   ],
   "source": [
    "from sklearn.model_selection import cross_val_score\n",
    "\n",
    "cv_score = cross_val_score(gb_model, X_train, y_train, cv=5, scoring=\"accuracy\")\n",
    "print(cv_score)\n",
    "print(np.mean(cv_score))"
   ]
  },
  {
   "cell_type": "markdown",
   "metadata": {},
   "source": [
    "∆R (s, t) = max s∈Σ ∆R (s, t)"
   ]
  },
  {
   "cell_type": "code",
   "execution_count": 34,
   "metadata": {},
   "outputs": [
    {
     "data": {
      "text/plain": [
       "array([[117479,   9417],\n",
       "       [  6993,  92627]])"
      ]
     },
     "execution_count": 34,
     "metadata": {},
     "output_type": "execute_result"
    }
   ],
   "source": [
    "from sklearn.model_selection import cross_val_predict\n",
    "\n",
    "y_train_pred = cross_val_predict(gb_model, X_train, y_train, cv=3)\n",
    "\n",
    "from sklearn.metrics import confusion_matrix\n",
    "\n",
    "confusion_matrix(y_train, y_train_pred)"
   ]
  },
  {
   "cell_type": "markdown",
   "metadata": {},
   "source": [
    "## V. Hyperparameters tuning <a id=\"five\"></a>"
   ]
  },
  {
   "cell_type": "code",
   "execution_count": null,
   "metadata": {},
   "outputs": [],
   "source": [
    "#params = \n",
    "\n"
   ]
  },
  {
   "cell_type": "markdown",
   "metadata": {},
   "source": [
    "## VI. Training and predictions <a id=\"six\"></a>"
   ]
  },
  {
   "cell_type": "code",
   "execution_count": null,
   "metadata": {},
   "outputs": [],
   "source": [
    "%%time\n",
    "#Training on all labeled data using the best parameters found with GridSearchCV.\n",
    "gb_model = GradientBoostingClassifier(best_params)\n",
    "gb_model.fit(X_train, y_train)"
   ]
  }
 ],
 "metadata": {
  "kernelspec": {
   "display_name": "Python 3",
   "language": "python",
   "name": "python3"
  },
  "language_info": {
   "codemirror_mode": {
    "name": "ipython",
    "version": 3
   },
   "file_extension": ".py",
   "mimetype": "text/x-python",
   "name": "python",
   "nbconvert_exporter": "python",
   "pygments_lexer": "ipython3",
   "version": "3.7.0"
  }
 },
 "nbformat": 4,
 "nbformat_minor": 2
}
